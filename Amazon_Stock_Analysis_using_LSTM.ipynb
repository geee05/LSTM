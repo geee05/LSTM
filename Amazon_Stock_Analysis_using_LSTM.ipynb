{
  "nbformat": 4,
  "nbformat_minor": 0,
  "metadata": {
    "colab": {
      "provenance": [],
      "authorship_tag": "ABX9TyO9J2KIm9UipPPFIPRyppCL",
      "include_colab_link": true
    },
    "kernelspec": {
      "name": "python3",
      "display_name": "Python 3"
    },
    "language_info": {
      "name": "python"
    }
  },
  "cells": [
    {
      "cell_type": "markdown",
      "metadata": {
        "id": "view-in-github",
        "colab_type": "text"
      },
      "source": [
        "<a href=\"https://colab.research.google.com/github/geee05/LSTM/blob/main/Amazon_Stock_Analysis_using_LSTM.ipynb\" target=\"_parent\"><img src=\"https://colab.research.google.com/assets/colab-badge.svg\" alt=\"Open In Colab\"/></a>"
      ]
    },
    {
      "cell_type": "code",
      "source": [
        "import tensorflow as tf\n",
        "import yfinance as yf\n",
        "import numpy as np\n",
        "import pandas as pd\n",
        "import matplotlib.pyplot as plt"
      ],
      "metadata": {
        "id": "uuTp1z1NYPGH"
      },
      "execution_count": null,
      "outputs": []
    },
    {
      "cell_type": "code",
      "source": [
        "data_amz=yf.download(\"amzn\",start='2019-01-01',interval='1d')\n",
        "data_amz.head()"
      ],
      "metadata": {
        "colab": {
          "base_uri": "https://localhost:8080/",
          "height": 255
        },
        "id": "TmZN1Xt9YXhs",
        "outputId": "07bb7de3-71de-4e3b-f46f-20d900cd8378"
      },
      "execution_count": null,
      "outputs": [
        {
          "output_type": "stream",
          "name": "stdout",
          "text": [
            "\r[*********************100%***********************]  1 of 1 completed\n"
          ]
        },
        {
          "output_type": "execute_result",
          "data": {
            "text/plain": [
              "                 Open       High        Low      Close  Adj Close     Volume\n",
              "Date                                                                        \n",
              "2019-01-02  73.260002  77.667999  73.046501  76.956497  76.956497  159662000\n",
              "2019-01-03  76.000504  76.900002  74.855499  75.014000  75.014000  139512000\n",
              "2019-01-04  76.500000  79.699997  75.915497  78.769501  78.769501  183652000\n",
              "2019-01-07  80.115501  81.727997  79.459503  81.475502  81.475502  159864000\n",
              "2019-01-08  83.234497  83.830498  80.830498  82.829002  82.829002  177628000"
            ],
            "text/html": [
              "\n",
              "  <div id=\"df-a09a530e-bd3b-4078-b427-6b2dfcd3036a\">\n",
              "    <div class=\"colab-df-container\">\n",
              "      <div>\n",
              "<style scoped>\n",
              "    .dataframe tbody tr th:only-of-type {\n",
              "        vertical-align: middle;\n",
              "    }\n",
              "\n",
              "    .dataframe tbody tr th {\n",
              "        vertical-align: top;\n",
              "    }\n",
              "\n",
              "    .dataframe thead th {\n",
              "        text-align: right;\n",
              "    }\n",
              "</style>\n",
              "<table border=\"1\" class=\"dataframe\">\n",
              "  <thead>\n",
              "    <tr style=\"text-align: right;\">\n",
              "      <th></th>\n",
              "      <th>Open</th>\n",
              "      <th>High</th>\n",
              "      <th>Low</th>\n",
              "      <th>Close</th>\n",
              "      <th>Adj Close</th>\n",
              "      <th>Volume</th>\n",
              "    </tr>\n",
              "    <tr>\n",
              "      <th>Date</th>\n",
              "      <th></th>\n",
              "      <th></th>\n",
              "      <th></th>\n",
              "      <th></th>\n",
              "      <th></th>\n",
              "      <th></th>\n",
              "    </tr>\n",
              "  </thead>\n",
              "  <tbody>\n",
              "    <tr>\n",
              "      <th>2019-01-02</th>\n",
              "      <td>73.260002</td>\n",
              "      <td>77.667999</td>\n",
              "      <td>73.046501</td>\n",
              "      <td>76.956497</td>\n",
              "      <td>76.956497</td>\n",
              "      <td>159662000</td>\n",
              "    </tr>\n",
              "    <tr>\n",
              "      <th>2019-01-03</th>\n",
              "      <td>76.000504</td>\n",
              "      <td>76.900002</td>\n",
              "      <td>74.855499</td>\n",
              "      <td>75.014000</td>\n",
              "      <td>75.014000</td>\n",
              "      <td>139512000</td>\n",
              "    </tr>\n",
              "    <tr>\n",
              "      <th>2019-01-04</th>\n",
              "      <td>76.500000</td>\n",
              "      <td>79.699997</td>\n",
              "      <td>75.915497</td>\n",
              "      <td>78.769501</td>\n",
              "      <td>78.769501</td>\n",
              "      <td>183652000</td>\n",
              "    </tr>\n",
              "    <tr>\n",
              "      <th>2019-01-07</th>\n",
              "      <td>80.115501</td>\n",
              "      <td>81.727997</td>\n",
              "      <td>79.459503</td>\n",
              "      <td>81.475502</td>\n",
              "      <td>81.475502</td>\n",
              "      <td>159864000</td>\n",
              "    </tr>\n",
              "    <tr>\n",
              "      <th>2019-01-08</th>\n",
              "      <td>83.234497</td>\n",
              "      <td>83.830498</td>\n",
              "      <td>80.830498</td>\n",
              "      <td>82.829002</td>\n",
              "      <td>82.829002</td>\n",
              "      <td>177628000</td>\n",
              "    </tr>\n",
              "  </tbody>\n",
              "</table>\n",
              "</div>\n",
              "      <button class=\"colab-df-convert\" onclick=\"convertToInteractive('df-a09a530e-bd3b-4078-b427-6b2dfcd3036a')\"\n",
              "              title=\"Convert this dataframe to an interactive table.\"\n",
              "              style=\"display:none;\">\n",
              "        \n",
              "  <svg xmlns=\"http://www.w3.org/2000/svg\" height=\"24px\"viewBox=\"0 0 24 24\"\n",
              "       width=\"24px\">\n",
              "    <path d=\"M0 0h24v24H0V0z\" fill=\"none\"/>\n",
              "    <path d=\"M18.56 5.44l.94 2.06.94-2.06 2.06-.94-2.06-.94-.94-2.06-.94 2.06-2.06.94zm-11 1L8.5 8.5l.94-2.06 2.06-.94-2.06-.94L8.5 2.5l-.94 2.06-2.06.94zm10 10l.94 2.06.94-2.06 2.06-.94-2.06-.94-.94-2.06-.94 2.06-2.06.94z\"/><path d=\"M17.41 7.96l-1.37-1.37c-.4-.4-.92-.59-1.43-.59-.52 0-1.04.2-1.43.59L10.3 9.45l-7.72 7.72c-.78.78-.78 2.05 0 2.83L4 21.41c.39.39.9.59 1.41.59.51 0 1.02-.2 1.41-.59l7.78-7.78 2.81-2.81c.8-.78.8-2.07 0-2.86zM5.41 20L4 18.59l7.72-7.72 1.47 1.35L5.41 20z\"/>\n",
              "  </svg>\n",
              "      </button>\n",
              "      \n",
              "  <style>\n",
              "    .colab-df-container {\n",
              "      display:flex;\n",
              "      flex-wrap:wrap;\n",
              "      gap: 12px;\n",
              "    }\n",
              "\n",
              "    .colab-df-convert {\n",
              "      background-color: #E8F0FE;\n",
              "      border: none;\n",
              "      border-radius: 50%;\n",
              "      cursor: pointer;\n",
              "      display: none;\n",
              "      fill: #1967D2;\n",
              "      height: 32px;\n",
              "      padding: 0 0 0 0;\n",
              "      width: 32px;\n",
              "    }\n",
              "\n",
              "    .colab-df-convert:hover {\n",
              "      background-color: #E2EBFA;\n",
              "      box-shadow: 0px 1px 2px rgba(60, 64, 67, 0.3), 0px 1px 3px 1px rgba(60, 64, 67, 0.15);\n",
              "      fill: #174EA6;\n",
              "    }\n",
              "\n",
              "    [theme=dark] .colab-df-convert {\n",
              "      background-color: #3B4455;\n",
              "      fill: #D2E3FC;\n",
              "    }\n",
              "\n",
              "    [theme=dark] .colab-df-convert:hover {\n",
              "      background-color: #434B5C;\n",
              "      box-shadow: 0px 1px 3px 1px rgba(0, 0, 0, 0.15);\n",
              "      filter: drop-shadow(0px 1px 2px rgba(0, 0, 0, 0.3));\n",
              "      fill: #FFFFFF;\n",
              "    }\n",
              "  </style>\n",
              "\n",
              "      <script>\n",
              "        const buttonEl =\n",
              "          document.querySelector('#df-a09a530e-bd3b-4078-b427-6b2dfcd3036a button.colab-df-convert');\n",
              "        buttonEl.style.display =\n",
              "          google.colab.kernel.accessAllowed ? 'block' : 'none';\n",
              "\n",
              "        async function convertToInteractive(key) {\n",
              "          const element = document.querySelector('#df-a09a530e-bd3b-4078-b427-6b2dfcd3036a');\n",
              "          const dataTable =\n",
              "            await google.colab.kernel.invokeFunction('convertToInteractive',\n",
              "                                                     [key], {});\n",
              "          if (!dataTable) return;\n",
              "\n",
              "          const docLinkHtml = 'Like what you see? Visit the ' +\n",
              "            '<a target=\"_blank\" href=https://colab.research.google.com/notebooks/data_table.ipynb>data table notebook</a>'\n",
              "            + ' to learn more about interactive tables.';\n",
              "          element.innerHTML = '';\n",
              "          dataTable['output_type'] = 'display_data';\n",
              "          await google.colab.output.renderOutput(dataTable, element);\n",
              "          const docLink = document.createElement('div');\n",
              "          docLink.innerHTML = docLinkHtml;\n",
              "          element.appendChild(docLink);\n",
              "        }\n",
              "      </script>\n",
              "    </div>\n",
              "  </div>\n",
              "  "
            ]
          },
          "metadata": {},
          "execution_count": 10
        }
      ]
    },
    {
      "cell_type": "code",
      "source": [
        "data_amz.info()"
      ],
      "metadata": {
        "colab": {
          "base_uri": "https://localhost:8080/"
        },
        "id": "Z9TqgqLhZoep",
        "outputId": "85d33074-3957-45ff-dc5d-581bdc4d16ca"
      },
      "execution_count": null,
      "outputs": [
        {
          "output_type": "stream",
          "name": "stdout",
          "text": [
            "<class 'pandas.core.frame.DataFrame'>\n",
            "DatetimeIndex: 1094 entries, 2019-01-02 to 2023-05-05\n",
            "Data columns (total 6 columns):\n",
            " #   Column     Non-Null Count  Dtype  \n",
            "---  ------     --------------  -----  \n",
            " 0   Open       1094 non-null   float64\n",
            " 1   High       1094 non-null   float64\n",
            " 2   Low        1094 non-null   float64\n",
            " 3   Close      1094 non-null   float64\n",
            " 4   Adj Close  1094 non-null   float64\n",
            " 5   Volume     1094 non-null   int64  \n",
            "dtypes: float64(5), int64(1)\n",
            "memory usage: 59.8 KB\n"
          ]
        }
      ]
    },
    {
      "cell_type": "code",
      "source": [
        "data_amz.isnull().sum()"
      ],
      "metadata": {
        "colab": {
          "base_uri": "https://localhost:8080/"
        },
        "id": "ibvaRobDZrMM",
        "outputId": "136a7acd-4e69-4fcc-c90b-9da7f20fc949"
      },
      "execution_count": null,
      "outputs": [
        {
          "output_type": "execute_result",
          "data": {
            "text/plain": [
              "Open         0\n",
              "High         0\n",
              "Low          0\n",
              "Close        0\n",
              "Adj Close    0\n",
              "Volume       0\n",
              "dtype: int64"
            ]
          },
          "metadata": {},
          "execution_count": 12
        }
      ]
    },
    {
      "cell_type": "code",
      "source": [
        "data_amz.duplicated().any()"
      ],
      "metadata": {
        "colab": {
          "base_uri": "https://localhost:8080/"
        },
        "id": "zIHDNm5jZwZH",
        "outputId": "27db0744-480c-4e8f-ee40-7c5ff204ca1f"
      },
      "execution_count": null,
      "outputs": [
        {
          "output_type": "execute_result",
          "data": {
            "text/plain": [
              "False"
            ]
          },
          "metadata": {},
          "execution_count": 13
        }
      ]
    },
    {
      "cell_type": "code",
      "source": [
        "data_amz['Close']=pd.to_numeric(data_amz.Close,errors='coerce')"
      ],
      "metadata": {
        "id": "lYS_CzG8aC_k"
      },
      "execution_count": null,
      "outputs": []
    },
    {
      "cell_type": "code",
      "source": [
        "plt.figure(figsize=(9,6))\n",
        "plt.plot(data_amz.index,data_amz['Close'],color='green',label='Close')\n",
        "plt.title('Closing Prices')\n",
        "plt.show()\n",
        "#stock growth based on time"
      ],
      "metadata": {
        "colab": {
          "base_uri": "https://localhost:8080/",
          "height": 545
        },
        "id": "2a7_mu9OaUFC",
        "outputId": "868a7bbc-e61c-4889-c68f-53b6046fe076"
      },
      "execution_count": null,
      "outputs": [
        {
          "output_type": "display_data",
          "data": {
            "text/plain": [
              "<Figure size 900x600 with 1 Axes>"
            ],
            "image/png": "[encoded data removed]"
          },
          "metadata": {}
        }
      ]
    },
    {
      "cell_type": "code",
      "source": [
        "data_c=data_amz.iloc[:,4:5]\n",
        "data_c=data_c.values"
      ],
      "metadata": {
        "id": "uCYA4w98bc5r"
      },
      "execution_count": null,
      "outputs": []
    },
    {
      "cell_type": "code",
      "source": [
        "data_c"
      ],
      "metadata": {
        "colab": {
          "base_uri": "https://localhost:8080/"
        },
        "id": "0ppMeEWrbqwI",
        "outputId": "2d13d134-73a9-410f-9de7-82c1f0ed99cf"
      },
      "execution_count": null,
      "outputs": [
        {
          "output_type": "execute_result",
          "data": {
            "text/plain": [
              "array([[ 76.95649719],\n",
              "       [ 75.01399994],\n",
              "       [ 78.76950073],\n",
              "       ...,\n",
              "       [103.65000153],\n",
              "       [104.        ],\n",
              "       [105.66000366]])"
            ]
          },
          "metadata": {},
          "execution_count": 17
        }
      ]
    },
    {
      "cell_type": "code",
      "source": [
        "#normalize\n",
        "from sklearn.preprocessing import MinMaxScaler\n",
        "scaler=MinMaxScaler(feature_range=(0,1))\n",
        "data_c=scaler.fit_transform(data_c)"
      ],
      "metadata": {
        "id": "jI0JQtB_cIVv"
      },
      "execution_count": null,
      "outputs": []
    },
    {
      "cell_type": "code",
      "source": [
        "feature_length=100"
      ],
      "metadata": {
        "id": "Zz3r24n8cpg4"
      },
      "execution_count": null,
      "outputs": []
    },
    {
      "cell_type": "code",
      "source": [
        "def xy(data_amz, feature_length):\n",
        "  X=list()\n",
        "  Y=list()\n",
        "  for i in range(len(data_amz) - feature_length -1):\n",
        "    X.append(data_amz[i:(i + feature_length),0])\n",
        "    Y.append(data_amz[i + feature_length,0])\n",
        "  X=np.array(X)\n",
        "  Y=np.array(Y)\n",
        "  return X,Y\n",
        "\n",
        "X_train,Y_train=xy(data_c,feature_length)"
      ],
      "metadata": {
        "id": "o9KNTszGc1w9"
      },
      "execution_count": null,
      "outputs": []
    },
    {
      "cell_type": "code",
      "source": [
        "X_train.shape"
      ],
      "metadata": {
        "colab": {
          "base_uri": "https://localhost:8080/"
        },
        "id": "Ghm_mc39LwiG",
        "outputId": "890261bb-35b1-4f07-dd6f-4931e2929d78"
      },
      "execution_count": null,
      "outputs": [
        {
          "output_type": "execute_result",
          "data": {
            "text/plain": [
              "(993, 100)"
            ]
          },
          "metadata": {},
          "execution_count": 21
        }
      ]
    },
    {
      "cell_type": "code",
      "source": [
        "#LSTM requires 3d data (tensor) as input \n",
        "X_train=np.reshape(X_train,(X_train.shape[0],X_train.shape[1],1))\n",
        "X_train.shape,Y_train.shape"
      ],
      "metadata": {
        "colab": {
          "base_uri": "https://localhost:8080/"
        },
        "id": "bfckBl4GLGkO",
        "outputId": "26c32507-c686-4de8-d464-38bd49619ae2"
      },
      "execution_count": null,
      "outputs": [
        {
          "output_type": "execute_result",
          "data": {
            "text/plain": [
              "((993, 100, 1), (993,))"
            ]
          },
          "metadata": {},
          "execution_count": 22
        }
      ]
    },
    {
      "cell_type": "code",
      "source": [
        "#model building\n",
        "from tensorflow.keras.models import Sequential\n",
        "from tensorflow.keras.layers import Dense,Dropout,LSTM\n",
        "#adam optimiser, one dense layer, two Dropout layers, two LSTM layers"
      ],
      "metadata": {
        "id": "hLWZgzorLv0a"
      },
      "execution_count": null,
      "outputs": []
    },
    {
      "cell_type": "markdown",
      "source": [
        "LSTMs are recurrent neural networks (RNNs): allows the network to remember the context of the model while discarding the irrelevant information."
      ],
      "metadata": {
        "id": "O7xSzDisMqUJ"
      }
    },
    {
      "cell_type": "code",
      "source": [
        "model= Sequential([\n",
        "    LSTM(100,return_sequences=True,input_shape=(X_train.shape[1],1)),\n",
        "    Dropout(0.3),\n",
        "    LSTM(100,return_sequences=False),\n",
        "    Dropout(0.3),\n",
        "\n",
        "    Dense(1),\n",
        "])\n",
        "model.compile(optimizer='adam',loss=\"mean_squared_error\")\n",
        "model.summary()"
      ],
      "metadata": {
        "colab": {
          "base_uri": "https://localhost:8080/"
        },
        "id": "doc9J3A8MTvR",
        "outputId": "ab36b0a1-b5bb-4d26-a831-d938c2a82471"
      },
      "execution_count": null,
      "outputs": [
        {
          "output_type": "stream",
          "name": "stdout",
          "text": [
            "Model: \"sequential\"\n",
            "_________________________________________________________________\n",
            " Layer (type)                Output Shape              Param #   \n",
            "=================================================================\n",
            " lstm (LSTM)                 (None, 100, 100)          40800     \n",
            "                                                                 \n",
            " dropout (Dropout)           (None, 100, 100)          0         \n",
            "                                                                 \n",
            " lstm_1 (LSTM)               (None, 100)               80400     \n",
            "                                                                 \n",
            " dropout_1 (Dropout)         (None, 100)               0         \n",
            "                                                                 \n",
            " dense (Dense)               (None, 1)                 101       \n",
            "                                                                 \n",
            "=================================================================\n",
            "Total params: 121,301\n",
            "Trainable params: 121,301\n",
            "Non-trainable params: 0\n",
            "_________________________________________________________________\n"
          ]
        }
      ]
    },
    {
      "cell_type": "code",
      "source": [
        "#model training : 100 epochs, batch size 12\n",
        "history=model.fit(\n",
        "    X_train,\n",
        "    Y_train,\n",
        "    epochs=100,\n",
        "    batch_size=12,\n",
        "    verbose=1\n",
        ")"
      ],
      "metadata": {
        "colab": {
          "base_uri": "https://localhost:8080/"
        },
        "id": "01rSbtCwN51r",
        "outputId": "8b5460bf-4192-43d9-b9a4-134e1e5e6bd6"
      },
      "execution_count": null,
      "outputs": [
        {
          "output_type": "stream",
          "name": "stdout",
          "text": [
            "Epoch 1/100\n",
            "83/83 [==============================] - 17s 143ms/step - loss: 0.0215\n",
            "Epoch 2/100\n",
            "83/83 [==============================] - 12s 139ms/step - loss: 0.0061\n",
            "Epoch 3/100\n",
            "83/83 [==============================] - 12s 140ms/step - loss: 0.0062\n",
            "Epoch 4/100\n",
            "83/83 [==============================] - 12s 149ms/step - loss: 0.0047\n",
            "Epoch 5/100\n",
            "83/83 [==============================] - 12s 139ms/step - loss: 0.0044\n",
            "Epoch 6/100\n",
            "83/83 [==============================] - 11s 136ms/step - loss: 0.0045\n",
            "Epoch 7/100\n",
            "83/83 [==============================] - 10s 121ms/step - loss: 0.0058\n",
            "Epoch 8/100\n",
            "83/83 [==============================] - 12s 140ms/step - loss: 0.0047\n",
            "Epoch 9/100\n",
            "83/83 [==============================] - 11s 138ms/step - loss: 0.0041\n",
            "Epoch 10/100\n",
            "83/83 [==============================] - 11s 136ms/step - loss: 0.0041\n",
            "Epoch 11/100\n",
            "83/83 [==============================] - 11s 136ms/step - loss: 0.0046\n",
            "Epoch 12/100\n",
            "83/83 [==============================] - 11s 131ms/step - loss: 0.0037\n",
            "Epoch 13/100\n",
            "83/83 [==============================] - 11s 130ms/step - loss: 0.0037\n",
            "Epoch 14/100\n",
            "83/83 [==============================] - 11s 128ms/step - loss: 0.0036\n",
            "Epoch 15/100\n",
            "83/83 [==============================] - 10s 124ms/step - loss: 0.0037\n",
            "Epoch 16/100\n",
            "83/83 [==============================] - 11s 133ms/step - loss: 0.0037\n",
            "Epoch 17/100\n",
            "83/83 [==============================] - 11s 137ms/step - loss: 0.0032\n",
            "Epoch 18/100\n",
            "83/83 [==============================] - 11s 137ms/step - loss: 0.0031\n",
            "Epoch 19/100\n",
            "83/83 [==============================] - 11s 132ms/step - loss: 0.0032\n",
            "Epoch 20/100\n",
            "83/83 [==============================] - 11s 133ms/step - loss: 0.0031\n",
            "Epoch 21/100\n",
            "83/83 [==============================] - 14s 171ms/step - loss: 0.0027\n",
            "Epoch 22/100\n",
            "83/83 [==============================] - 11s 136ms/step - loss: 0.0029\n",
            "Epoch 23/100\n",
            "83/83 [==============================] - 11s 134ms/step - loss: 0.0027\n",
            "Epoch 24/100\n",
            "83/83 [==============================] - 11s 134ms/step - loss: 0.0025\n",
            "Epoch 25/100\n",
            "83/83 [==============================] - 11s 133ms/step - loss: 0.0027\n",
            "Epoch 26/100\n",
            "83/83 [==============================] - 11s 129ms/step - loss: 0.0032\n",
            "Epoch 27/100\n",
            "83/83 [==============================] - 10s 121ms/step - loss: 0.0029\n",
            "Epoch 28/100\n",
            "83/83 [==============================] - 11s 132ms/step - loss: 0.0024\n",
            "Epoch 29/100\n",
            "83/83 [==============================] - 11s 131ms/step - loss: 0.0024\n",
            "Epoch 30/100\n",
            "83/83 [==============================] - 11s 134ms/step - loss: 0.0027\n",
            "Epoch 31/100\n",
            "83/83 [==============================] - 11s 134ms/step - loss: 0.0024\n",
            "Epoch 32/100\n",
            "83/83 [==============================] - 11s 133ms/step - loss: 0.0025\n",
            "Epoch 33/100\n",
            "83/83 [==============================] - 11s 134ms/step - loss: 0.0022\n",
            "Epoch 34/100\n",
            "83/83 [==============================] - 11s 133ms/step - loss: 0.0023\n",
            "Epoch 35/100\n",
            "83/83 [==============================] - 11s 133ms/step - loss: 0.0023\n",
            "Epoch 36/100\n",
            "83/83 [==============================] - 11s 134ms/step - loss: 0.0023\n",
            "Epoch 37/100\n",
            "83/83 [==============================] - 10s 124ms/step - loss: 0.0020\n",
            "Epoch 38/100\n",
            "13/83 [===>..........................] - ETA: 11s - loss: 0.0031"
          ]
        }
      ]
    },
    {
      "cell_type": "code",
      "source": [
        "#model testing\n",
        "test=data_amz.iloc[:,4:5]\n",
        "y_real=test.iloc[feature_length+1:,0:].values\n",
        "x_test=test.iloc[:,0:].values\n",
        "\n",
        "x_test=scaler.transform(x_test)\n",
        "x_test,y_test=xy(x_test,feature_length)\n",
        "\n",
        "x_test=np.reshape(x_test,(x_test.shape[0],x_test.shape[1],1))"
      ],
      "metadata": {
        "id": "RzlKyyi_OdSS"
      },
      "execution_count": null,
      "outputs": []
    },
    {
      "cell_type": "code",
      "source": [
        "x_test.shape,y_test.shape"
      ],
      "metadata": {
        "id": "m1684wxqRD4q"
      },
      "execution_count": null,
      "outputs": []
    },
    {
      "cell_type": "code",
      "source": [
        "y_pred=model.predict(x_test)\n",
        "predicted_price=scaler.inverse_transform(y_pred)"
      ],
      "metadata": {
        "id": "cpeDpefjREnL"
      },
      "execution_count": null,
      "outputs": []
    },
    {
      "cell_type": "code",
      "source": [
        "plt.plot(y_real,color='red',label='Actual')\n",
        "plt.plot(predicted_price,color='green',label='Predicted')\n",
        "plt.xlabel('Time')\n",
        "plt.ylabel('Stock')\n",
        "plt.legend()\n",
        "plt.show()"
      ],
      "metadata": {
        "colab": {
          "base_uri": "https://localhost:8080/",
          "height": 449
        },
        "id": "1TvcUMJNRTA4",
        "outputId": "eb19d954-84eb-4111-d820-20463204333b"
      },
      "execution_count": null,
      "outputs": [
        {
          "output_type": "display_data",
          "data": {
            "text/plain": [
              "<Figure size 640x480 with 1 Axes>"
            ],
            "image/png": "[encoded data removed]"
          },
          "metadata": {}
        }
      ]
    },
    {
      "cell_type": "code",
      "source": [
        "#predictions:real time\n",
        "def predict_real_time(data_amz,date,feature_length):\n",
        "  if date not in data_amz.index:\n",
        "    data_amz.loc[pd.Timestamp(date)] = 0\n",
        "  idx=data_amz.index.get_loc(date)\n",
        "  close_col=data_amz.iloc[:,4:5]\n",
        "  close_col=close_col.iloc[idx - feature_length : idx, :].values\n",
        "  close_col=np.expand_dims(scaler.transform(close_col),axis=0)\n",
        "  prediction=model.predict(close_col)\n",
        "  prediction=scaler.inverse_transform(prediction)\n",
        "  return prediction\n",
        "\n",
        "#today = datetime.today().strftime('%Y-%m-%d')\n",
        "predict_real_time(data_amz,'2023-05-09',feature_length)"
      ],
      "metadata": {
        "id": "k5cG7GRER52z",
        "colab": {
          "base_uri": "https://localhost:8080/"
        },
        "outputId": "027d0978-d59b-474c-9ddd-fcf85c0d7b02"
      },
      "execution_count": null,
      "outputs": [
        {
          "output_type": "stream",
          "name": "stdout",
          "text": [
            "1/1 [==============================] - 0s 55ms/step\n"
          ]
        },
        {
          "output_type": "execute_result",
          "data": {
            "text/plain": [
              "array([[106.523865]], dtype=float32)"
            ]
          },
          "metadata": {},
          "execution_count": 36
        }
      ]
    }
  ]
}